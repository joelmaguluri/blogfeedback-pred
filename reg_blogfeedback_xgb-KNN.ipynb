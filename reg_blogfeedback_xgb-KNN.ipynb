{
 "cells": [
  {
   "cell_type": "code",
   "execution_count": null,
   "metadata": {
    "scrolled": true
   },
   "outputs": [],
   "source": [
    "%pip install sklearn pandas matplotlib seaborn "
   ]
  },
  {
   "cell_type": "code",
   "execution_count": 3,
   "metadata": {},
   "outputs": [
    {
     "name": "stdout",
     "output_type": "stream",
     "text": [
      "Collecting scikit-learn\n",
      "  Obtaining dependency information for scikit-learn from https://files.pythonhosted.org/packages/2d/30/3afb8bcb785653254eb646ff2680ec4d637b40b06f4b046aca17b5e086b0/scikit_learn-1.3.0-cp39-cp39-win_amd64.whl.metadata\n",
      "  Downloading scikit_learn-1.3.0-cp39-cp39-win_amd64.whl.metadata (11 kB)\n",
      "Requirement already satisfied: numpy>=1.17.3 in c:\\users\\joel maguluri\\miniconda3\\envs\\basicml\\lib\\site-packages (from scikit-learn) (1.25.2)\n",
      "Collecting scipy>=1.5.0 (from scikit-learn)\n",
      "  Obtaining dependency information for scipy>=1.5.0 from https://files.pythonhosted.org/packages/e9/20/2d0561ab54d857365926c5b53538369a7b8d6ccbffaca509305b074028cd/scipy-1.11.2-cp39-cp39-win_amd64.whl.metadata\n",
      "  Downloading scipy-1.11.2-cp39-cp39-win_amd64.whl.metadata (59 kB)\n",
      "     ---------------------------------------- 0.0/59.1 kB ? eta -:--:--\n",
      "     ------ --------------------------------- 10.2/59.1 kB ? eta -:--:--\n",
      "     ------------------- ------------------ 30.7/59.1 kB 660.6 kB/s eta 0:00:01\n",
      "     -------------------------------------- 59.1/59.1 kB 626.5 kB/s eta 0:00:00\n",
      "Collecting joblib>=1.1.1 (from scikit-learn)\n",
      "  Obtaining dependency information for joblib>=1.1.1 from https://files.pythonhosted.org/packages/10/40/d551139c85db202f1f384ba8bcf96aca2f329440a844f924c8a0040b6d02/joblib-1.3.2-py3-none-any.whl.metadata\n",
      "  Downloading joblib-1.3.2-py3-none-any.whl.metadata (5.4 kB)\n",
      "Collecting threadpoolctl>=2.0.0 (from scikit-learn)\n",
      "  Obtaining dependency information for threadpoolctl>=2.0.0 from https://files.pythonhosted.org/packages/81/12/fd4dea011af9d69e1cad05c75f3f7202cdcbeac9b712eea58ca779a72865/threadpoolctl-3.2.0-py3-none-any.whl.metadata\n",
      "  Downloading threadpoolctl-3.2.0-py3-none-any.whl.metadata (10.0 kB)\n",
      "Downloading scikit_learn-1.3.0-cp39-cp39-win_amd64.whl (9.3 MB)\n",
      "   ---------------------------------------- 0.0/9.3 MB ? eta -:--:--\n",
      "    --------------------------------------- 0.2/9.3 MB 4.5 MB/s eta 0:00:03\n",
      "   - -------------------------------------- 0.5/9.3 MB 5.7 MB/s eta 0:00:02\n",
      "   ---- ----------------------------------- 1.0/9.3 MB 8.3 MB/s eta 0:00:01\n",
      "   ---- ----------------------------------- 1.1/9.3 MB 6.9 MB/s eta 0:00:02\n",
      "   --------- ------------------------------ 2.3/9.3 MB 9.6 MB/s eta 0:00:01\n",
      "   ------------- -------------------------- 3.2/9.3 MB 11.8 MB/s eta 0:00:01\n",
      "   ---------------- ----------------------- 3.7/9.3 MB 11.9 MB/s eta 0:00:01\n",
      "   ------------------ --------------------- 4.4/9.3 MB 11.6 MB/s eta 0:00:01\n",
      "   --------------------- ------------------ 4.9/9.3 MB 11.6 MB/s eta 0:00:01\n",
      "   ------------------------ --------------- 5.7/9.3 MB 12.0 MB/s eta 0:00:01\n",
      "   ------------------------- -------------- 6.0/9.3 MB 11.6 MB/s eta 0:00:01\n",
      "   ----------------------------- ---------- 6.8/9.3 MB 12.4 MB/s eta 0:00:01\n",
      "   --------------------------------- ------ 7.8/9.3 MB 12.8 MB/s eta 0:00:01\n",
      "   --------------------------------- ------ 7.8/9.3 MB 12.5 MB/s eta 0:00:01\n",
      "   ------------------------------------ --- 8.4/9.3 MB 11.9 MB/s eta 0:00:01\n",
      "   ---------------------------------------  9.3/9.3 MB 12.7 MB/s eta 0:00:01\n",
      "   ---------------------------------------  9.3/9.3 MB 12.7 MB/s eta 0:00:01\n",
      "   ---------------------------------------- 9.3/9.3 MB 11.2 MB/s eta 0:00:00\n",
      "Using cached joblib-1.3.2-py3-none-any.whl (302 kB)\n",
      "Downloading scipy-1.11.2-cp39-cp39-win_amd64.whl (44.1 MB)\n",
      "   ---------------------------------------- 0.0/44.1 MB ? eta -:--:--\n",
      "    --------------------------------------- 1.0/44.1 MB 31.0 MB/s eta 0:00:02\n",
      "   - -------------------------------------- 1.7/44.1 MB 17.9 MB/s eta 0:00:03\n",
      "   -- ------------------------------------- 2.5/44.1 MB 17.4 MB/s eta 0:00:03\n",
      "   --- ------------------------------------ 3.5/44.1 MB 18.8 MB/s eta 0:00:03\n",
      "   ---- ----------------------------------- 4.5/44.1 MB 19.0 MB/s eta 0:00:03\n",
      "   ---- ----------------------------------- 4.6/44.1 MB 16.3 MB/s eta 0:00:03\n",
      "   ---- ----------------------------------- 5.1/44.1 MB 15.5 MB/s eta 0:00:03\n",
      "   ----- ---------------------------------- 6.1/44.1 MB 16.3 MB/s eta 0:00:03\n",
      "   ------ --------------------------------- 6.9/44.1 MB 16.4 MB/s eta 0:00:03\n",
      "   ------ --------------------------------- 7.2/44.1 MB 15.8 MB/s eta 0:00:03\n",
      "   ------ --------------------------------- 7.5/44.1 MB 14.6 MB/s eta 0:00:03\n",
      "   ------- -------------------------------- 8.1/44.1 MB 14.7 MB/s eta 0:00:03\n",
      "   ------- -------------------------------- 8.3/44.1 MB 13.7 MB/s eta 0:00:03\n",
      "   ------- -------------------------------- 8.8/44.1 MB 13.3 MB/s eta 0:00:03\n",
      "   -------- ------------------------------- 9.1/44.1 MB 12.9 MB/s eta 0:00:03\n",
      "   -------- ------------------------------- 9.6/44.1 MB 12.8 MB/s eta 0:00:03\n",
      "   --------- ------------------------------ 10.0/44.1 MB 13.0 MB/s eta 0:00:03\n",
      "   --------- ------------------------------ 10.2/44.1 MB 12.3 MB/s eta 0:00:03\n",
      "   --------- ------------------------------ 10.4/44.1 MB 11.7 MB/s eta 0:00:03\n",
      "   ---------- ----------------------------- 11.1/44.1 MB 11.1 MB/s eta 0:00:03\n",
      "   ---------- ----------------------------- 11.3/44.1 MB 11.1 MB/s eta 0:00:03\n",
      "   ---------- ----------------------------- 11.7/44.1 MB 10.7 MB/s eta 0:00:04\n",
      "   ----------- ---------------------------- 12.2/44.1 MB 10.6 MB/s eta 0:00:04\n",
      "   ----------- ---------------------------- 12.9/44.1 MB 10.7 MB/s eta 0:00:03\n",
      "   ----------- ---------------------------- 12.9/44.1 MB 10.7 MB/s eta 0:00:03\n",
      "   ------------ --------------------------- 13.6/44.1 MB 9.9 MB/s eta 0:00:04\n",
      "   ------------- -------------------------- 14.5/44.1 MB 9.9 MB/s eta 0:00:03\n",
      "   ------------- -------------------------- 15.2/44.1 MB 10.4 MB/s eta 0:00:03\n",
      "   -------------- ------------------------- 15.7/44.1 MB 10.6 MB/s eta 0:00:03\n",
      "   -------------- ------------------------- 16.5/44.1 MB 10.1 MB/s eta 0:00:03\n",
      "   --------------- ------------------------ 16.9/44.1 MB 9.8 MB/s eta 0:00:03\n",
      "   --------------- ------------------------ 17.6/44.1 MB 10.2 MB/s eta 0:00:03\n",
      "   ---------------- ----------------------- 17.9/44.1 MB 10.1 MB/s eta 0:00:03\n",
      "   ---------------- ----------------------- 18.0/44.1 MB 10.2 MB/s eta 0:00:03\n",
      "   ---------------- ----------------------- 18.1/44.1 MB 9.4 MB/s eta 0:00:03\n",
      "   ---------------- ----------------------- 18.6/44.1 MB 9.6 MB/s eta 0:00:03\n",
      "   ----------------- ---------------------- 19.5/44.1 MB 10.2 MB/s eta 0:00:03\n",
      "   ----------------- ---------------------- 19.8/44.1 MB 9.9 MB/s eta 0:00:03\n",
      "   ------------------ --------------------- 20.7/44.1 MB 10.7 MB/s eta 0:00:03\n",
      "   ------------------- -------------------- 21.4/44.1 MB 11.3 MB/s eta 0:00:03\n",
      "   -------------------- ------------------- 22.1/44.1 MB 11.7 MB/s eta 0:00:02\n",
      "   -------------------- ------------------- 22.8/44.1 MB 11.7 MB/s eta 0:00:02\n",
      "   --------------------- ------------------ 23.6/44.1 MB 12.8 MB/s eta 0:00:02\n",
      "   --------------------- ------------------ 24.1/44.1 MB 12.4 MB/s eta 0:00:02\n",
      "   ---------------------- ----------------- 24.5/44.1 MB 12.3 MB/s eta 0:00:02\n",
      "   ----------------------- ---------------- 26.0/44.1 MB 13.1 MB/s eta 0:00:02\n",
      "   ----------------------- ---------------- 26.4/44.1 MB 12.6 MB/s eta 0:00:02\n",
      "   ----------------------- ---------------- 26.4/44.1 MB 12.6 MB/s eta 0:00:02\n",
      "   ------------------------ --------------- 27.0/44.1 MB 11.7 MB/s eta 0:00:02\n",
      "   ------------------------- -------------- 27.9/44.1 MB 12.1 MB/s eta 0:00:02\n",
      "   ------------------------- -------------- 28.2/44.1 MB 13.6 MB/s eta 0:00:02\n",
      "   ------------------------- -------------- 28.3/44.1 MB 12.8 MB/s eta 0:00:02\n",
      "   -------------------------- ------------- 28.9/44.1 MB 12.8 MB/s eta 0:00:02\n",
      "   --------------------------- ------------ 29.8/44.1 MB 13.4 MB/s eta 0:00:02\n",
      "   --------------------------- ------------ 30.8/44.1 MB 13.6 MB/s eta 0:00:01\n",
      "   ---------------------------- ----------- 31.5/44.1 MB 13.4 MB/s eta 0:00:01\n",
      "   ----------------------------- ---------- 32.3/44.1 MB 13.6 MB/s eta 0:00:01\n",
      "   ------------------------------ --------- 33.4/44.1 MB 13.9 MB/s eta 0:00:01\n",
      "   ------------------------------- -------- 34.4/44.1 MB 14.6 MB/s eta 0:00:01\n",
      "   ------------------------------- -------- 35.0/44.1 MB 15.2 MB/s eta 0:00:01\n",
      "   -------------------------------- ------- 35.5/44.1 MB 14.2 MB/s eta 0:00:01\n",
      "   -------------------------------- ------- 36.4/44.1 MB 13.9 MB/s eta 0:00:01\n",
      "   --------------------------------- ------ 37.4/44.1 MB 16.0 MB/s eta 0:00:01\n",
      "   ---------------------------------- ----- 38.5/44.1 MB 18.2 MB/s eta 0:00:01\n",
      "   ----------------------------------- ---- 39.4/44.1 MB 18.7 MB/s eta 0:00:01\n",
      "   ------------------------------------ --- 40.6/44.1 MB 19.3 MB/s eta 0:00:01\n",
      "   ------------------------------------- -- 41.3/44.1 MB 18.7 MB/s eta 0:00:01\n",
      "   -------------------------------------- - 42.0/44.1 MB 19.3 MB/s eta 0:00:01\n",
      "   -------------------------------------- - 42.1/44.1 MB 17.7 MB/s eta 0:00:01\n",
      "   -------------------------------------- - 42.7/44.1 MB 16.8 MB/s eta 0:00:01\n",
      "   ---------------------------------------  43.5/44.1 MB 16.8 MB/s eta 0:00:01\n",
      "   ---------------------------------------  44.1/44.1 MB 16.4 MB/s eta 0:00:01\n",
      "   ---------------------------------------  44.1/44.1 MB 16.4 MB/s eta 0:00:01\n",
      "   ---------------------------------------  44.1/44.1 MB 16.4 MB/s eta 0:00:01\n",
      "   ---------------------------------------  44.1/44.1 MB 16.4 MB/s eta 0:00:01\n",
      "   ---------------------------------------  44.1/44.1 MB 16.4 MB/s eta 0:00:01\n",
      "   ---------------------------------------  44.1/44.1 MB 16.4 MB/s eta 0:00:01\n",
      "   ---------------------------------------- 44.1/44.1 MB 11.1 MB/s eta 0:00:00\n",
      "Using cached threadpoolctl-3.2.0-py3-none-any.whl (15 kB)\n",
      "Installing collected packages: threadpoolctl, scipy, joblib, scikit-learn\n",
      "Successfully installed joblib-1.3.2 scikit-learn-1.3.0 scipy-1.11.2 threadpoolctl-3.2.0\n",
      "Note: you may need to restart the kernel to use updated packages.\n"
     ]
    }
   ],
   "source": [
    "%pip install scikit-learn\n"
   ]
  },
  {
   "cell_type": "code",
   "execution_count": 4,
   "metadata": {
    "tags": []
   },
   "outputs": [],
   "source": [
    "import pandas as pd\n",
    "import numpy as np\n",
    "\n",
    "import seaborn as sns\n",
    "sns.set(style=\"white\", color_codes=True)\n",
    "sns.set(font_scale=1.5)\n",
    "\n",
    "from sklearn.model_selection import train_test_split\n",
    "from sklearn.linear_model import LinearRegression\n",
    "from sklearn.metrics import mean_squared_error\n",
    "\n",
    "# import plotting libraries\n",
    "import matplotlib.pyplot as plt"
   ]
  },
  {
   "cell_type": "markdown",
   "metadata": {},
   "source": [
    "1...50: \n",
    "      Average, standard deviation, min, max and median of the \n",
    "      Attributes 51...60 for the source of the current blog post\n",
    "      With source we mean the blog on which the post appeared. \n",
    "      For example, myblog.blog.org would be the source of \n",
    "      the post myblog.blog.org/post_2010_09_10 \n",
    "      \n",
    "51:   Total number of comments before basetime\n",
    "\n",
    "52:   Number of comments in the last 24 hours before the \n",
    "      basetime\n",
    "      \n",
    "53:   Let T1 denote the datetime 48 hours before basetime,\n",
    "      Let T2 denote the datetime 24 hours before basetime.\n",
    "      This attribute is the number of comments in the time period \n",
    "      between T1 and T2\n",
    "      \n",
    "54:   Number of comments in the first 24 hours after the \n",
    "      publication of the blog post, but before basetime\n",
    "      \n",
    "55:   The difference of Attribute 52 and Attribute 53\n",
    "\n",
    "56...60: \n",
    "      The same features as the attributes 51...55, but  \n",
    "      features 56...60 refer to the number of links (trackbacks), \n",
    "      while features 51...55 refer to the number of comments.\n",
    "      \n",
    "61:   The length of time between the publication of the blog post \n",
    "      and basetime\n",
    "      \n",
    "62:   The length of the blog post\n",
    "\n",
    "**63...262: \n",
    "      The 200 bag of words features for 200 frequent words of the \n",
    "      text of the blog post**\n",
    "      \n",
    "263...269: binary indicator features (0 or 1) for the weekday\n",
    "      (Monday...Sunday) of the basetime\n",
    "      \n",
    "270...276: binary indicator features (0 or 1) for the weekday\n",
    "      (Monday...Sunday) of the date of publication of the blog\n",
    "      post\n",
    "      \n",
    "277:  Number of parent pages: we consider a blog post P as a\n",
    "      parent of blog post B, if B is a reply (trackback) to \n",
    "      blog post P.\n",
    "      \n",
    "278...280:  \n",
    "      Minimum, maximum, average number of comments that the \n",
    "      parents received\n",
    "      \n",
    "281:  The target: the number of comments in the next 24 hours\n",
    "      (relative to basetime)"
   ]
  },
  {
   "cell_type": "code",
   "execution_count": 5,
   "metadata": {
    "tags": []
   },
   "outputs": [],
   "source": [
    "# Load the dataset\n",
    "data_url = \"https://raw.githubusercontent.com/gridflowai/gridflowAI-datasets-icons/master/AI-DATASETS/01-MISC/blogfeedback/blogData_train.csv\"\n",
    "df = pd.read_csv(data_url, header=None)"
   ]
  },
  {
   "cell_type": "code",
   "execution_count": 6,
   "metadata": {
    "tags": []
   },
   "outputs": [
    {
     "data": {
      "text/plain": [
       "(52397, 281)"
      ]
     },
     "execution_count": 6,
     "metadata": {},
     "output_type": "execute_result"
    }
   ],
   "source": [
    "df.shape"
   ]
  },
  {
   "cell_type": "code",
   "execution_count": 7,
   "metadata": {
    "tags": []
   },
   "outputs": [
    {
     "data": {
      "text/html": [
       "<div>\n",
       "<style scoped>\n",
       "    .dataframe tbody tr th:only-of-type {\n",
       "        vertical-align: middle;\n",
       "    }\n",
       "\n",
       "    .dataframe tbody tr th {\n",
       "        vertical-align: top;\n",
       "    }\n",
       "\n",
       "    .dataframe thead th {\n",
       "        text-align: right;\n",
       "    }\n",
       "</style>\n",
       "<table border=\"1\" class=\"dataframe\">\n",
       "  <thead>\n",
       "    <tr style=\"text-align: right;\">\n",
       "      <th></th>\n",
       "      <th>0</th>\n",
       "      <th>1</th>\n",
       "      <th>2</th>\n",
       "      <th>3</th>\n",
       "      <th>4</th>\n",
       "      <th>5</th>\n",
       "      <th>6</th>\n",
       "      <th>7</th>\n",
       "      <th>8</th>\n",
       "      <th>9</th>\n",
       "      <th>...</th>\n",
       "      <th>271</th>\n",
       "      <th>272</th>\n",
       "      <th>273</th>\n",
       "      <th>274</th>\n",
       "      <th>275</th>\n",
       "      <th>276</th>\n",
       "      <th>277</th>\n",
       "      <th>278</th>\n",
       "      <th>279</th>\n",
       "      <th>280</th>\n",
       "    </tr>\n",
       "  </thead>\n",
       "  <tbody>\n",
       "    <tr>\n",
       "      <th>34098</th>\n",
       "      <td>3.046667</td>\n",
       "      <td>6.444984</td>\n",
       "      <td>0.0</td>\n",
       "      <td>44.0</td>\n",
       "      <td>1.5</td>\n",
       "      <td>1.333333</td>\n",
       "      <td>3.501746</td>\n",
       "      <td>0.0</td>\n",
       "      <td>29.0</td>\n",
       "      <td>0.0</td>\n",
       "      <td>...</td>\n",
       "      <td>0.0</td>\n",
       "      <td>0.0</td>\n",
       "      <td>1.0</td>\n",
       "      <td>0.0</td>\n",
       "      <td>0.0</td>\n",
       "      <td>0.0</td>\n",
       "      <td>0.0</td>\n",
       "      <td>0.0</td>\n",
       "      <td>0.0</td>\n",
       "      <td>0.0</td>\n",
       "    </tr>\n",
       "    <tr>\n",
       "      <th>16884</th>\n",
       "      <td>1.675439</td>\n",
       "      <td>8.113229</td>\n",
       "      <td>0.0</td>\n",
       "      <td>74.0</td>\n",
       "      <td>0.0</td>\n",
       "      <td>0.622807</td>\n",
       "      <td>4.374749</td>\n",
       "      <td>0.0</td>\n",
       "      <td>65.0</td>\n",
       "      <td>0.0</td>\n",
       "      <td>...</td>\n",
       "      <td>1.0</td>\n",
       "      <td>0.0</td>\n",
       "      <td>0.0</td>\n",
       "      <td>0.0</td>\n",
       "      <td>0.0</td>\n",
       "      <td>0.0</td>\n",
       "      <td>0.0</td>\n",
       "      <td>0.0</td>\n",
       "      <td>0.0</td>\n",
       "      <td>0.0</td>\n",
       "    </tr>\n",
       "    <tr>\n",
       "      <th>46780</th>\n",
       "      <td>84.750610</td>\n",
       "      <td>91.961070</td>\n",
       "      <td>0.0</td>\n",
       "      <td>510.0</td>\n",
       "      <td>58.0</td>\n",
       "      <td>32.814182</td>\n",
       "      <td>57.297016</td>\n",
       "      <td>0.0</td>\n",
       "      <td>368.0</td>\n",
       "      <td>5.0</td>\n",
       "      <td>...</td>\n",
       "      <td>0.0</td>\n",
       "      <td>0.0</td>\n",
       "      <td>0.0</td>\n",
       "      <td>1.0</td>\n",
       "      <td>0.0</td>\n",
       "      <td>0.0</td>\n",
       "      <td>0.0</td>\n",
       "      <td>0.0</td>\n",
       "      <td>0.0</td>\n",
       "      <td>0.0</td>\n",
       "    </tr>\n",
       "    <tr>\n",
       "      <th>45378</th>\n",
       "      <td>10.146341</td>\n",
       "      <td>32.393284</td>\n",
       "      <td>0.0</td>\n",
       "      <td>292.0</td>\n",
       "      <td>0.0</td>\n",
       "      <td>5.151219</td>\n",
       "      <td>20.454865</td>\n",
       "      <td>0.0</td>\n",
       "      <td>220.0</td>\n",
       "      <td>0.0</td>\n",
       "      <td>...</td>\n",
       "      <td>0.0</td>\n",
       "      <td>0.0</td>\n",
       "      <td>0.0</td>\n",
       "      <td>0.0</td>\n",
       "      <td>0.0</td>\n",
       "      <td>1.0</td>\n",
       "      <td>0.0</td>\n",
       "      <td>0.0</td>\n",
       "      <td>0.0</td>\n",
       "      <td>0.0</td>\n",
       "    </tr>\n",
       "    <tr>\n",
       "      <th>3738</th>\n",
       "      <td>29.267677</td>\n",
       "      <td>19.170923</td>\n",
       "      <td>0.0</td>\n",
       "      <td>122.0</td>\n",
       "      <td>26.0</td>\n",
       "      <td>11.098485</td>\n",
       "      <td>13.550798</td>\n",
       "      <td>0.0</td>\n",
       "      <td>80.0</td>\n",
       "      <td>6.0</td>\n",
       "      <td>...</td>\n",
       "      <td>0.0</td>\n",
       "      <td>0.0</td>\n",
       "      <td>0.0</td>\n",
       "      <td>0.0</td>\n",
       "      <td>0.0</td>\n",
       "      <td>0.0</td>\n",
       "      <td>0.0</td>\n",
       "      <td>0.0</td>\n",
       "      <td>0.0</td>\n",
       "      <td>4.0</td>\n",
       "    </tr>\n",
       "  </tbody>\n",
       "</table>\n",
       "<p>5 rows × 281 columns</p>\n",
       "</div>"
      ],
      "text/plain": [
       "             0          1    2      3     4          5          6    7    \\\n",
       "34098   3.046667   6.444984  0.0   44.0   1.5   1.333333   3.501746  0.0   \n",
       "16884   1.675439   8.113229  0.0   74.0   0.0   0.622807   4.374749  0.0   \n",
       "46780  84.750610  91.961070  0.0  510.0  58.0  32.814182  57.297016  0.0   \n",
       "45378  10.146341  32.393284  0.0  292.0   0.0   5.151219  20.454865  0.0   \n",
       "3738   29.267677  19.170923  0.0  122.0  26.0  11.098485  13.550798  0.0   \n",
       "\n",
       "         8    9    ...  271  272  273  274  275  276  277  278  279  280  \n",
       "34098   29.0  0.0  ...  0.0  0.0  1.0  0.0  0.0  0.0  0.0  0.0  0.0  0.0  \n",
       "16884   65.0  0.0  ...  1.0  0.0  0.0  0.0  0.0  0.0  0.0  0.0  0.0  0.0  \n",
       "46780  368.0  5.0  ...  0.0  0.0  0.0  1.0  0.0  0.0  0.0  0.0  0.0  0.0  \n",
       "45378  220.0  0.0  ...  0.0  0.0  0.0  0.0  0.0  1.0  0.0  0.0  0.0  0.0  \n",
       "3738    80.0  6.0  ...  0.0  0.0  0.0  0.0  0.0  0.0  0.0  0.0  0.0  4.0  \n",
       "\n",
       "[5 rows x 281 columns]"
      ]
     },
     "execution_count": 7,
     "metadata": {},
     "output_type": "execute_result"
    }
   ],
   "source": [
    "df.sample(5)"
   ]
  },
  {
   "cell_type": "code",
   "execution_count": 8,
   "metadata": {
    "tags": []
   },
   "outputs": [
    {
     "data": {
      "text/plain": [
       "array([[0., 0., 0., ..., 0., 0., 0.],\n",
       "       [0., 0., 0., ..., 0., 0., 0.],\n",
       "       [0., 0., 0., ..., 0., 0., 0.],\n",
       "       ...,\n",
       "       [0., 0., 0., ..., 0., 0., 0.],\n",
       "       [0., 0., 0., ..., 0., 0., 0.],\n",
       "       [0., 0., 0., ..., 0., 0., 0.]])"
      ]
     },
     "execution_count": 8,
     "metadata": {},
     "output_type": "execute_result"
    }
   ],
   "source": [
    "df.values[:10, 65:190]"
   ]
  },
  {
   "cell_type": "code",
   "execution_count": 9,
   "metadata": {
    "tags": []
   },
   "outputs": [
    {
     "data": {
      "text/plain": [
       "0      float64\n",
       "1      float64\n",
       "2      float64\n",
       "3      float64\n",
       "4      float64\n",
       "        ...   \n",
       "276    float64\n",
       "277    float64\n",
       "278    float64\n",
       "279    float64\n",
       "280    float64\n",
       "Length: 281, dtype: object"
      ]
     },
     "execution_count": 9,
     "metadata": {},
     "output_type": "execute_result"
    }
   ],
   "source": [
    "df.dtypes"
   ]
  },
  {
   "cell_type": "markdown",
   "metadata": {
    "tags": []
   },
   "source": [
    "#### check null values"
   ]
  },
  {
   "cell_type": "code",
   "execution_count": 10,
   "metadata": {
    "tags": []
   },
   "outputs": [
    {
     "data": {
      "text/plain": [
       "0      0\n",
       "1      0\n",
       "2      0\n",
       "3      0\n",
       "4      0\n",
       "      ..\n",
       "276    0\n",
       "277    0\n",
       "278    0\n",
       "279    0\n",
       "280    0\n",
       "Length: 281, dtype: int64"
      ]
     },
     "execution_count": 10,
     "metadata": {},
     "output_type": "execute_result"
    }
   ],
   "source": [
    "df.isnull().sum()"
   ]
  },
  {
   "cell_type": "code",
   "execution_count": 11,
   "metadata": {
    "tags": []
   },
   "outputs": [
    {
     "data": {
      "text/html": [
       "<div>\n",
       "<style scoped>\n",
       "    .dataframe tbody tr th:only-of-type {\n",
       "        vertical-align: middle;\n",
       "    }\n",
       "\n",
       "    .dataframe tbody tr th {\n",
       "        vertical-align: top;\n",
       "    }\n",
       "\n",
       "    .dataframe thead th {\n",
       "        text-align: right;\n",
       "    }\n",
       "</style>\n",
       "<table border=\"1\" class=\"dataframe\">\n",
       "  <thead>\n",
       "    <tr style=\"text-align: right;\">\n",
       "      <th></th>\n",
       "      <th>Count of NANs</th>\n",
       "    </tr>\n",
       "  </thead>\n",
       "  <tbody>\n",
       "    <tr>\n",
       "      <th>93</th>\n",
       "      <td>0</td>\n",
       "    </tr>\n",
       "    <tr>\n",
       "      <th>126</th>\n",
       "      <td>0</td>\n",
       "    </tr>\n",
       "    <tr>\n",
       "      <th>230</th>\n",
       "      <td>0</td>\n",
       "    </tr>\n",
       "    <tr>\n",
       "      <th>213</th>\n",
       "      <td>0</td>\n",
       "    </tr>\n",
       "    <tr>\n",
       "      <th>204</th>\n",
       "      <td>0</td>\n",
       "    </tr>\n",
       "  </tbody>\n",
       "</table>\n",
       "</div>"
      ],
      "text/plain": [
       "     Count of NANs\n",
       "93               0\n",
       "126              0\n",
       "230              0\n",
       "213              0\n",
       "204              0"
      ]
     },
     "execution_count": 11,
     "metadata": {},
     "output_type": "execute_result"
    }
   ],
   "source": [
    "NAs = pd.concat([df.isnull().sum()], axis=1, keys=['Count of NANs'])\n",
    "NAs.sample(5)"
   ]
  },
  {
   "cell_type": "code",
   "execution_count": 12,
   "metadata": {
    "tags": []
   },
   "outputs": [
    {
     "data": {
      "text/html": [
       "<div>\n",
       "<style scoped>\n",
       "    .dataframe tbody tr th:only-of-type {\n",
       "        vertical-align: middle;\n",
       "    }\n",
       "\n",
       "    .dataframe tbody tr th {\n",
       "        vertical-align: top;\n",
       "    }\n",
       "\n",
       "    .dataframe thead th {\n",
       "        text-align: right;\n",
       "    }\n",
       "</style>\n",
       "<table border=\"1\" class=\"dataframe\">\n",
       "  <thead>\n",
       "    <tr style=\"text-align: right;\">\n",
       "      <th></th>\n",
       "      <th>Count of NANs</th>\n",
       "    </tr>\n",
       "  </thead>\n",
       "  <tbody>\n",
       "  </tbody>\n",
       "</table>\n",
       "</div>"
      ],
      "text/plain": [
       "Empty DataFrame\n",
       "Columns: [Count of NANs]\n",
       "Index: []"
      ]
     },
     "execution_count": 12,
     "metadata": {},
     "output_type": "execute_result"
    }
   ],
   "source": [
    "NAs[NAs.sum(axis=1) > 0]"
   ]
  },
  {
   "cell_type": "code",
   "execution_count": 13,
   "metadata": {
    "tags": []
   },
   "outputs": [],
   "source": [
    "y = df.iloc[:, -1]"
   ]
  },
  {
   "cell_type": "markdown",
   "metadata": {},
   "source": [
    "#### Distribution of y - histogram, normality test, outliers"
   ]
  },
  {
   "cell_type": "code",
   "execution_count": 14,
   "metadata": {
    "tags": []
   },
   "outputs": [
    {
     "data": {
      "text/plain": [
       "count    52397.000000\n",
       "mean         6.764719\n",
       "std         37.706565\n",
       "min          0.000000\n",
       "25%          0.000000\n",
       "50%          0.000000\n",
       "75%          1.000000\n",
       "max       1424.000000\n",
       "Name: 280, dtype: float64"
      ]
     },
     "execution_count": 14,
     "metadata": {},
     "output_type": "execute_result"
    }
   ],
   "source": [
    "df.iloc[:, -1].describe()"
   ]
  },
  {
   "cell_type": "markdown",
   "metadata": {
    "tags": []
   },
   "source": [
    "#### type of columns\n",
    "let us have a look at the data type of all the variables present in the dataset."
   ]
  },
  {
   "cell_type": "code",
   "execution_count": 15,
   "metadata": {
    "tags": []
   },
   "outputs": [
    {
     "data": {
      "text/html": [
       "<div>\n",
       "<style scoped>\n",
       "    .dataframe tbody tr th:only-of-type {\n",
       "        vertical-align: middle;\n",
       "    }\n",
       "\n",
       "    .dataframe tbody tr th {\n",
       "        vertical-align: top;\n",
       "    }\n",
       "\n",
       "    .dataframe thead th {\n",
       "        text-align: right;\n",
       "    }\n",
       "</style>\n",
       "<table border=\"1\" class=\"dataframe\">\n",
       "  <thead>\n",
       "    <tr style=\"text-align: right;\">\n",
       "      <th></th>\n",
       "      <th>index</th>\n",
       "      <th>0</th>\n",
       "    </tr>\n",
       "  </thead>\n",
       "  <tbody>\n",
       "    <tr>\n",
       "      <th>187</th>\n",
       "      <td>187</td>\n",
       "      <td>float64</td>\n",
       "    </tr>\n",
       "    <tr>\n",
       "      <th>15</th>\n",
       "      <td>15</td>\n",
       "      <td>float64</td>\n",
       "    </tr>\n",
       "    <tr>\n",
       "      <th>108</th>\n",
       "      <td>108</td>\n",
       "      <td>float64</td>\n",
       "    </tr>\n",
       "    <tr>\n",
       "      <th>207</th>\n",
       "      <td>207</td>\n",
       "      <td>float64</td>\n",
       "    </tr>\n",
       "    <tr>\n",
       "      <th>132</th>\n",
       "      <td>132</td>\n",
       "      <td>float64</td>\n",
       "    </tr>\n",
       "    <tr>\n",
       "      <th>219</th>\n",
       "      <td>219</td>\n",
       "      <td>float64</td>\n",
       "    </tr>\n",
       "    <tr>\n",
       "      <th>141</th>\n",
       "      <td>141</td>\n",
       "      <td>float64</td>\n",
       "    </tr>\n",
       "    <tr>\n",
       "      <th>31</th>\n",
       "      <td>31</td>\n",
       "      <td>float64</td>\n",
       "    </tr>\n",
       "    <tr>\n",
       "      <th>67</th>\n",
       "      <td>67</td>\n",
       "      <td>float64</td>\n",
       "    </tr>\n",
       "    <tr>\n",
       "      <th>114</th>\n",
       "      <td>114</td>\n",
       "      <td>float64</td>\n",
       "    </tr>\n",
       "  </tbody>\n",
       "</table>\n",
       "</div>"
      ],
      "text/plain": [
       "     index        0\n",
       "187    187  float64\n",
       "15      15  float64\n",
       "108    108  float64\n",
       "207    207  float64\n",
       "132    132  float64\n",
       "219    219  float64\n",
       "141    141  float64\n",
       "31      31  float64\n",
       "67      67  float64\n",
       "114    114  float64"
      ]
     },
     "execution_count": 15,
     "metadata": {},
     "output_type": "execute_result"
    }
   ],
   "source": [
    "dtype_df = df.dtypes.reset_index()\n",
    "dtype_df.sample(10)"
   ]
  },
  {
   "cell_type": "code",
   "execution_count": 16,
   "metadata": {
    "tags": []
   },
   "outputs": [
    {
     "data": {
      "text/html": [
       "<div>\n",
       "<style scoped>\n",
       "    .dataframe tbody tr th:only-of-type {\n",
       "        vertical-align: middle;\n",
       "    }\n",
       "\n",
       "    .dataframe tbody tr th {\n",
       "        vertical-align: top;\n",
       "    }\n",
       "\n",
       "    .dataframe thead th {\n",
       "        text-align: right;\n",
       "    }\n",
       "</style>\n",
       "<table border=\"1\" class=\"dataframe\">\n",
       "  <thead>\n",
       "    <tr style=\"text-align: right;\">\n",
       "      <th></th>\n",
       "      <th>Count</th>\n",
       "      <th>Column Type</th>\n",
       "    </tr>\n",
       "  </thead>\n",
       "  <tbody>\n",
       "    <tr>\n",
       "      <th>0</th>\n",
       "      <td>0</td>\n",
       "      <td>float64</td>\n",
       "    </tr>\n",
       "    <tr>\n",
       "      <th>1</th>\n",
       "      <td>1</td>\n",
       "      <td>float64</td>\n",
       "    </tr>\n",
       "    <tr>\n",
       "      <th>2</th>\n",
       "      <td>2</td>\n",
       "      <td>float64</td>\n",
       "    </tr>\n",
       "  </tbody>\n",
       "</table>\n",
       "</div>"
      ],
      "text/plain": [
       "   Count Column Type\n",
       "0      0     float64\n",
       "1      1     float64\n",
       "2      2     float64"
      ]
     },
     "execution_count": 16,
     "metadata": {},
     "output_type": "execute_result"
    }
   ],
   "source": [
    "dtype_df.columns = [\"Count\", \"Column Type\"]\n",
    "dtype_df.head(3)"
   ]
  },
  {
   "cell_type": "code",
   "execution_count": 17,
   "metadata": {
    "tags": []
   },
   "outputs": [
    {
     "data": {
      "text/html": [
       "<div>\n",
       "<style scoped>\n",
       "    .dataframe tbody tr th:only-of-type {\n",
       "        vertical-align: middle;\n",
       "    }\n",
       "\n",
       "    .dataframe tbody tr th {\n",
       "        vertical-align: top;\n",
       "    }\n",
       "\n",
       "    .dataframe thead th {\n",
       "        text-align: right;\n",
       "    }\n",
       "</style>\n",
       "<table border=\"1\" class=\"dataframe\">\n",
       "  <thead>\n",
       "    <tr style=\"text-align: right;\">\n",
       "      <th></th>\n",
       "      <th>Column Type</th>\n",
       "      <th>Count</th>\n",
       "    </tr>\n",
       "  </thead>\n",
       "  <tbody>\n",
       "    <tr>\n",
       "      <th>0</th>\n",
       "      <td>float64</td>\n",
       "      <td>281</td>\n",
       "    </tr>\n",
       "  </tbody>\n",
       "</table>\n",
       "</div>"
      ],
      "text/plain": [
       "  Column Type  Count\n",
       "0     float64    281"
      ]
     },
     "execution_count": 17,
     "metadata": {},
     "output_type": "execute_result"
    }
   ],
   "source": [
    "dtype_df.groupby(\"Column Type\").aggregate('count').reset_index()"
   ]
  },
  {
   "cell_type": "code",
   "execution_count": 18,
   "metadata": {
    "tags": []
   },
   "outputs": [],
   "source": [
    "# Split the data into features (X) and target (y)\n",
    "X = df.iloc[:, :-1]\n",
    "y = df.iloc[:, -1]\n",
    "\n",
    "# Split data into training and testing sets\n",
    "X_train, X_test, y_train, y_test = train_test_split(X, y, test_size=0.2, random_state=42)"
   ]
  },
  {
   "cell_type": "code",
   "execution_count": 19,
   "metadata": {
    "tags": []
   },
   "outputs": [],
   "source": [
    "from sklearn.neighbors import KNeighborsRegressor\n",
    "from sklearn.metrics import mean_squared_error, r2_score, mean_absolute_error"
   ]
  },
  {
   "cell_type": "code",
   "execution_count": 20,
   "metadata": {
    "tags": []
   },
   "outputs": [],
   "source": [
    "def model_metrics(y_true, y_pred, test='test data'): \n",
    "    print(\"metrics using {} ...\".format(test))\n",
    "    print('Mean Abs Error   MAE    : ', mean_absolute_error(y_true, y_pred))\n",
    "    print('Mean Sq  Error MSE      : ', mean_squared_error(y_true, y_pred))\n",
    "    print('Root Mean Sq Error RMSE : ', np.sqrt(mean_squared_error(y_true, y_pred)))\n",
    "    # print('MAPE                    : ', np.mean(np.abs((y_true - y_pred) / y_true)) * 100)\n",
    "    # print('MPE                     : ', np.mean((y_true - y_pred) / y_true) * 100)\n",
    "    print('r2 value                : ', r2_score(y_true, y_pred))\n",
    "\n",
    "    print('\\n')"
   ]
  },
  {
   "cell_type": "code",
   "execution_count": 21,
   "metadata": {
    "tags": []
   },
   "outputs": [],
   "source": [
    "np.set_printoptions(precision=4, suppress=True)"
   ]
  },
  {
   "cell_type": "code",
   "execution_count": 22,
   "metadata": {
    "tags": []
   },
   "outputs": [],
   "source": [
    "# Replace zero values with 0.000001\n",
    "y_train_zero_inflated = np.where(y_train == 0, 0.000001, y_train)\n",
    "y_test_zero_inflated  = np.where(y_test  == 0, 0.000001, y_test)"
   ]
  },
  {
   "cell_type": "code",
   "execution_count": 24,
   "metadata": {
    "tags": []
   },
   "outputs": [
    {
     "data": {
      "text/html": [
       "<style>#sk-container-id-1 {color: black;}#sk-container-id-1 pre{padding: 0;}#sk-container-id-1 div.sk-toggleable {background-color: white;}#sk-container-id-1 label.sk-toggleable__label {cursor: pointer;display: block;width: 100%;margin-bottom: 0;padding: 0.3em;box-sizing: border-box;text-align: center;}#sk-container-id-1 label.sk-toggleable__label-arrow:before {content: \"▸\";float: left;margin-right: 0.25em;color: #696969;}#sk-container-id-1 label.sk-toggleable__label-arrow:hover:before {color: black;}#sk-container-id-1 div.sk-estimator:hover label.sk-toggleable__label-arrow:before {color: black;}#sk-container-id-1 div.sk-toggleable__content {max-height: 0;max-width: 0;overflow: hidden;text-align: left;background-color: #f0f8ff;}#sk-container-id-1 div.sk-toggleable__content pre {margin: 0.2em;color: black;border-radius: 0.25em;background-color: #f0f8ff;}#sk-container-id-1 input.sk-toggleable__control:checked~div.sk-toggleable__content {max-height: 200px;max-width: 100%;overflow: auto;}#sk-container-id-1 input.sk-toggleable__control:checked~label.sk-toggleable__label-arrow:before {content: \"▾\";}#sk-container-id-1 div.sk-estimator input.sk-toggleable__control:checked~label.sk-toggleable__label {background-color: #d4ebff;}#sk-container-id-1 div.sk-label input.sk-toggleable__control:checked~label.sk-toggleable__label {background-color: #d4ebff;}#sk-container-id-1 input.sk-hidden--visually {border: 0;clip: rect(1px 1px 1px 1px);clip: rect(1px, 1px, 1px, 1px);height: 1px;margin: -1px;overflow: hidden;padding: 0;position: absolute;width: 1px;}#sk-container-id-1 div.sk-estimator {font-family: monospace;background-color: #f0f8ff;border: 1px dotted black;border-radius: 0.25em;box-sizing: border-box;margin-bottom: 0.5em;}#sk-container-id-1 div.sk-estimator:hover {background-color: #d4ebff;}#sk-container-id-1 div.sk-parallel-item::after {content: \"\";width: 100%;border-bottom: 1px solid gray;flex-grow: 1;}#sk-container-id-1 div.sk-label:hover label.sk-toggleable__label {background-color: #d4ebff;}#sk-container-id-1 div.sk-serial::before {content: \"\";position: absolute;border-left: 1px solid gray;box-sizing: border-box;top: 0;bottom: 0;left: 50%;z-index: 0;}#sk-container-id-1 div.sk-serial {display: flex;flex-direction: column;align-items: center;background-color: white;padding-right: 0.2em;padding-left: 0.2em;position: relative;}#sk-container-id-1 div.sk-item {position: relative;z-index: 1;}#sk-container-id-1 div.sk-parallel {display: flex;align-items: stretch;justify-content: center;background-color: white;position: relative;}#sk-container-id-1 div.sk-item::before, #sk-container-id-1 div.sk-parallel-item::before {content: \"\";position: absolute;border-left: 1px solid gray;box-sizing: border-box;top: 0;bottom: 0;left: 50%;z-index: -1;}#sk-container-id-1 div.sk-parallel-item {display: flex;flex-direction: column;z-index: 1;position: relative;background-color: white;}#sk-container-id-1 div.sk-parallel-item:first-child::after {align-self: flex-end;width: 50%;}#sk-container-id-1 div.sk-parallel-item:last-child::after {align-self: flex-start;width: 50%;}#sk-container-id-1 div.sk-parallel-item:only-child::after {width: 0;}#sk-container-id-1 div.sk-dashed-wrapped {border: 1px dashed gray;margin: 0 0.4em 0.5em 0.4em;box-sizing: border-box;padding-bottom: 0.4em;background-color: white;}#sk-container-id-1 div.sk-label label {font-family: monospace;font-weight: bold;display: inline-block;line-height: 1.2em;}#sk-container-id-1 div.sk-label-container {text-align: center;}#sk-container-id-1 div.sk-container {/* jupyter's `normalize.less` sets `[hidden] { display: none; }` but bootstrap.min.css set `[hidden] { display: none !important; }` so we also need the `!important` here to be able to override the default hidden behavior on the sphinx rendered scikit-learn.org. See: https://github.com/scikit-learn/scikit-learn/issues/21755 */display: inline-block !important;position: relative;}#sk-container-id-1 div.sk-text-repr-fallback {display: none;}</style><div id=\"sk-container-id-1\" class=\"sk-top-container\"><div class=\"sk-text-repr-fallback\"><pre>KNeighborsRegressor(metric=&#x27;hamming&#x27;, n_jobs=-1, p=1, weights=&#x27;distance&#x27;)</pre><b>In a Jupyter environment, please rerun this cell to show the HTML representation or trust the notebook. <br />On GitHub, the HTML representation is unable to render, please try loading this page with nbviewer.org.</b></div><div class=\"sk-container\" hidden><div class=\"sk-item\"><div class=\"sk-estimator sk-toggleable\"><input class=\"sk-toggleable__control sk-hidden--visually\" id=\"sk-estimator-id-1\" type=\"checkbox\" checked><label for=\"sk-estimator-id-1\" class=\"sk-toggleable__label sk-toggleable__label-arrow\">KNeighborsRegressor</label><div class=\"sk-toggleable__content\"><pre>KNeighborsRegressor(metric=&#x27;hamming&#x27;, n_jobs=-1, p=1, weights=&#x27;distance&#x27;)</pre></div></div></div></div></div>"
      ],
      "text/plain": [
       "KNeighborsRegressor(metric='hamming', n_jobs=-1, p=1, weights='distance')"
      ]
     },
     "execution_count": 24,
     "metadata": {},
     "output_type": "execute_result"
    }
   ],
   "source": [
    "knn_regressor = KNeighborsRegressor(\n",
    "    n_neighbors=5,\n",
    "    weights  ='distance',\n",
    "    algorithm='auto',\n",
    "    leaf_size=30,\n",
    "    metric   ='hamming',\n",
    "    p        =1,\n",
    "    n_jobs   =-1\n",
    ")\n",
    "\n",
    "knn_regressor.fit(X_train, y_train_zero_inflated)"
   ]
  },
  {
   "cell_type": "code",
   "execution_count": 25,
   "metadata": {
    "tags": []
   },
   "outputs": [
    {
     "name": "stdout",
     "output_type": "stream",
     "text": [
      "metrics using training data ...\n",
      "Mean Abs Error   MAE    :  0.01919268526134981\n",
      "Mean Sq  Error MSE      :  0.07363192797290147\n",
      "Root Mean Sq Error RMSE :  0.2713520369794586\n",
      "r2 value                :  0.9999475931058427\n",
      "\n",
      "\n",
      "metrics using test data ...\n",
      "Mean Abs Error   MAE    :  6.514596733738967\n",
      "Mean Sq  Error MSE      :  1025.9663108681095\n",
      "Root Mean Sq Error RMSE :  32.030708872394776\n",
      "r2 value                :  0.3108551781937423\n",
      "\n",
      "\n"
     ]
    }
   ],
   "source": [
    "# predict (training samples)\n",
    "y_pred = knn_regressor.predict(X_train)\n",
    "model_metrics(y_train_zero_inflated, y_pred, 'training data')\n",
    "\n",
    "# predict (testing samples)\n",
    "y_pred = knn_regressor.predict(X_test)\n",
    "model_metrics(y_test_zero_inflated, y_pred, 'test data')"
   ]
  },
  {
   "cell_type": "code",
   "execution_count": null,
   "metadata": {},
   "outputs": [],
   "source": []
  },
  {
   "cell_type": "code",
   "execution_count": null,
   "metadata": {},
   "outputs": [],
   "source": []
  },
  {
   "cell_type": "code",
   "execution_count": null,
   "metadata": {},
   "outputs": [],
   "source": []
  },
  {
   "cell_type": "code",
   "execution_count": 26,
   "metadata": {
    "tags": []
   },
   "outputs": [],
   "source": [
    "from sklearn.model_selection import RandomizedSearchCV"
   ]
  },
  {
   "cell_type": "code",
   "execution_count": 27,
   "metadata": {
    "tags": []
   },
   "outputs": [],
   "source": [
    "# Create a dictionary of parameter distributions to search over\n",
    "param_dist = {\n",
    "    'n_neighbors': np.arange(1, 21),  # Range of values for n_neighbors\n",
    "    #'weights': ['uniform', 'distance'],\n",
    "    'algorithm': ['ball_tree', 'kd_tree', 'brute'],\n",
    "    #'leaf_size': np.arange(10, 51),\n",
    "    'p': [1, 2,3,4,5]\n",
    "}"
   ]
  },
  {
   "cell_type": "code",
   "execution_count": 28,
   "metadata": {
    "tags": []
   },
   "outputs": [],
   "source": [
    "# Create a KNeighborsRegressor instance\n",
    "knn_regressor = KNeighborsRegressor()\n",
    "\n",
    "# Create a RandomizedSearchCV instance\n",
    "random_search = RandomizedSearchCV(\n",
    "    knn_regressor,\n",
    "    param_distributions=param_dist,\n",
    "    n_iter=100,                        # Number of parameter settings to sample\n",
    "    scoring='neg_mean_squared_error',  # Use a suitable scoring metric\n",
    "    cv=5,                              # Number of cross-validation folds\n",
    "    n_jobs=-1                          # Use all available CPU cores\n",
    ")"
   ]
  },
  {
   "cell_type": "code",
   "execution_count": null,
   "metadata": {
    "tags": []
   },
   "outputs": [],
   "source": [
    "# Fit the RandomizedSearchCV instance to your data\n",
    "random_search.fit(X_train, y_train_zero_inflated)  # Replace X_train and y_train with your data\n",
    "\n",
    "# Print the best parameters and the corresponding score\n",
    "print(\"Best Parameters:\", random_search.best_params_)\n",
    "print(\"Best Score:\", -random_search.best_score_)  # Convert negative MSE back to positive\n",
    "\n",
    "# Get the best KNeighborsRegressor model\n",
    "best_knn_regressor = random_search.best_estimator_"
   ]
  },
  {
   "cell_type": "code",
   "execution_count": null,
   "metadata": {},
   "outputs": [],
   "source": [
    "model_metrics(y_true,random_search.best_estimator_.predict(X_test))"
   ]
  },
  {
   "cell_type": "code",
   "execution_count": null,
   "metadata": {},
   "outputs": [],
   "source": []
  },
  {
   "cell_type": "code",
   "execution_count": null,
   "metadata": {},
   "outputs": [],
   "source": []
  },
  {
   "cell_type": "markdown",
   "metadata": {},
   "source": [
    "#### try XGBOOST"
   ]
  },
  {
   "cell_type": "code",
   "execution_count": null,
   "metadata": {
    "tags": []
   },
   "outputs": [],
   "source": [
    "import xgboost as xgb"
   ]
  },
  {
   "cell_type": "code",
   "execution_count": null,
   "metadata": {
    "tags": []
   },
   "outputs": [],
   "source": [
    "# Create an XGBoost regressor instance\n",
    "regressor = xgb.XGBRegressor(\n",
    "    n_estimators  = 100,       # Number of boosting rounds (trees)\n",
    "    max_depth     = 14,        # Maximum depth of each tree\n",
    "    learning_rate = 0.075,      # Step size at each iteration\n",
    "    objective     = 'reg:squarederror',  # Specify regression task\n",
    "    #random_state  = 42,\n",
    "    colsample_bytree = .75,\n",
    "    reg_alpha        = .00001,                 # L1 regularization\n",
    "    reg_lambda       = 10,\n",
    "    eval_metric      = 'mae',\n",
    "    subsample        = .75, \n",
    ")"
   ]
  },
  {
   "cell_type": "code",
   "execution_count": null,
   "metadata": {
    "tags": []
   },
   "outputs": [],
   "source": [
    "# Train the regressor on the training data\n",
    "regressor.fit(X_train, y_train_zero_inflated)"
   ]
  },
  {
   "cell_type": "code",
   "execution_count": null,
   "metadata": {
    "tags": []
   },
   "outputs": [],
   "source": [
    "# predict (training samples)\n",
    "y_pred = regressor.predict(X_train)\n",
    "model_metrics(y_train_zero_inflated, y_pred, 'training data')\n",
    "\n",
    "# predict (testing samples)\n",
    "y_pred = regressor.predict(X_test)\n",
    "model_metrics(y_test_zero_inflated, y_pred, 'test data')"
   ]
  },
  {
   "cell_type": "markdown",
   "metadata": {},
   "source": [
    "#### K-Fold with XGBOOST"
   ]
  },
  {
   "cell_type": "code",
   "execution_count": null,
   "metadata": {
    "tags": []
   },
   "outputs": [],
   "source": [
    "from sklearn.model_selection import KFold\n",
    "from sklearn.model_selection import cross_val_score"
   ]
  },
  {
   "cell_type": "code",
   "execution_count": null,
   "metadata": {
    "id": "3CGPLM9AYO5h",
    "tags": []
   },
   "outputs": [],
   "source": [
    "# Define the number of folds\n",
    "num_folds = 5\n",
    "\n",
    "# Initialize the KFold cross-validation\n",
    "kf = KFold(n_splits=num_folds, shuffle=True, random_state=42)"
   ]
  },
  {
   "cell_type": "code",
   "execution_count": null,
   "metadata": {
    "id": "WB6E2qSFYO1F",
    "tags": []
   },
   "outputs": [],
   "source": [
    "# Initialize a list to store the mean squared errors for each fold\n",
    "my_train_zero_inflateds = []\n",
    "mse_scores = []\n",
    "r2_score   = []\n",
    "\n",
    "# Create an XGBoost regressor instance\n",
    "regressor = xgb.XGBRegressor(\n",
    "    n_estimators  = 100,       # Number of boosting rounds (trees)\n",
    "    max_depth     = 14,        # Maximum depth of each tree\n",
    "    learning_rate = 0.075,      # Step size at each iteration\n",
    "    objective     = 'reg:squarederror',  # Specify regression task\n",
    "    #random_state  = 42,\n",
    "    colsample_bytree = .75,\n",
    "    reg_alpha        = .01,                 # L1 regularization\n",
    "    reg_lambda       = .01,\n",
    "    eval_metric      = 'mae',\n",
    "    subsample        = .75, \n",
    ")\n",
    "\n",
    "# Perform k-fold cross-validation using cross_val_score\n",
    "num_folds = 5\n",
    "r2_scores = cross_val_score(regressor, X_train, y_train_zero_inflated, cv=num_folds, scoring='r2')"
   ]
  },
  {
   "cell_type": "code",
   "execution_count": null,
   "metadata": {
    "id": "3rpvRD8jYOpN",
    "tags": []
   },
   "outputs": [],
   "source": [
    "r2_scores"
   ]
  },
  {
   "cell_type": "markdown",
   "metadata": {},
   "source": [
    "#### try lightGBM"
   ]
  },
  {
   "cell_type": "code",
   "execution_count": null,
   "metadata": {
    "id": "Qp_-NIQZpKOg"
   },
   "outputs": [],
   "source": [
    "#!pip install lightgbm"
   ]
  },
  {
   "cell_type": "code",
   "execution_count": null,
   "metadata": {
    "tags": []
   },
   "outputs": [],
   "source": [
    "import lightgbm as lgb"
   ]
  },
  {
   "cell_type": "code",
   "execution_count": null,
   "metadata": {
    "tags": []
   },
   "outputs": [],
   "source": [
    "# Create a LightGBM dataset\n",
    "train_data = lgb.Dataset(X_train, label=y_train_zero_inflated)\n",
    "test_data  = lgb.Dataset(X_test,  label=y_test_zero_inflated, reference=train_data)"
   ]
  },
  {
   "cell_type": "code",
   "execution_count": null,
   "metadata": {
    "tags": []
   },
   "outputs": [],
   "source": [
    "# Define hyperparameters for the LightGBM model\n",
    "params = {\n",
    "    'objective': 'regression',  # This specifies that we're solving a regression problem\n",
    "    'metric': 'rmse',           # Root Mean Squared Error\n",
    "    'boosting_type': 'gbdt',    # Gradient Boosting Decision Tree\n",
    "    'num_leaves': 31,\n",
    "    'learning_rate': 0.05,\n",
    "    'feature_fraction': 0.9\n",
    "}\n",
    "\n",
    "# Train the LightGBM model\n",
    "num_round = 100\n",
    "bst = lgb.train(params, train_data, num_round, valid_sets=[test_data])\n",
    "\n",
    "# Make predictions on the test set\n",
    "y_pred = bst.predict(X_test, num_iteration=bst.best_iteration)\n",
    "\n",
    "# Calculate RMSE\n",
    "rmse = np.sqrt(mean_squared_error(y_test_zero_inflated, y_pred))\n",
    "print(f\"RMSE: {rmse}\")\n",
    "\n",
    "print('r2 value                : ', r2_score(y_test_zero_inflated, y_pred))"
   ]
  },
  {
   "cell_type": "code",
   "execution_count": null,
   "metadata": {
    "tags": []
   },
   "outputs": [],
   "source": [
    "import sklearn.metrics"
   ]
  },
  {
   "cell_type": "code",
   "execution_count": null,
   "metadata": {
    "tags": []
   },
   "outputs": [],
   "source": [
    "sklearn.metrics.r2_score(y_test_zero_inflated, y_pred)"
   ]
  },
  {
   "cell_type": "code",
   "execution_count": null,
   "metadata": {},
   "outputs": [],
   "source": []
  }
 ],
 "metadata": {
  "colab": {
   "provenance": []
  },
  "kernelspec": {
   "display_name": "basicml",
   "language": "python",
   "name": "basicml"
  },
  "language_info": {
   "codemirror_mode": {
    "name": "ipython",
    "version": 3
   },
   "file_extension": ".py",
   "mimetype": "text/x-python",
   "name": "python",
   "nbconvert_exporter": "python",
   "pygments_lexer": "ipython3",
   "version": "3.9.17"
  }
 },
 "nbformat": 4,
 "nbformat_minor": 4
}
